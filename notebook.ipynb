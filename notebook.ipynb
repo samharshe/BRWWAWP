{
 "cells": [
  {
   "attachments": {},
   "cell_type": "markdown",
   "metadata": {},
   "source": [
    "attributes = variables attached to an object.    \n",
    "instantiation = object creation.    \n",
    "__init__() runs automatically on initialization.    "
   ]
  },
  {
   "cell_type": "code",
   "execution_count": 1,
   "metadata": {},
   "outputs": [
    {
     "name": "stdout",
     "output_type": "stream",
     "text": [
      "The elevator company\n",
      "1\n"
     ]
    }
   ],
   "source": [
    "class Elevator:\n",
    "    def __init__(self, starting_floor):\n",
    "        self.make = \"The elevator company\"\n",
    "        self.floor = starting_floor\n",
    "\n",
    "# To create the object\n",
    "\n",
    "elevator = Elevator(1)\n",
    "print(elevator.make) # \"The Elevator company\"\n",
    "print(elevator.floor) # 1"
   ]
  },
  {
   "attachments": {},
   "cell_type": "markdown",
   "metadata": {},
   "source": [
    "if the attributes are attached to an instance of the object, you need to use \"self.xxx\""
   ]
  },
  {
   "cell_type": "code",
   "execution_count": 2,
   "metadata": {},
   "outputs": [
    {
     "ename": "IndentationError",
     "evalue": "expected an indented block (4058652972.py, line 7)",
     "output_type": "error",
     "traceback": [
      "\u001b[0;36m  File \u001b[0;32m\"/var/folders/1m/gvn54nz553d8jxtvjvrv56kh0000gn/T/ipykernel_74888/4058652972.py\"\u001b[0;36m, line \u001b[0;32m7\u001b[0m\n\u001b[0;31m    class Game:\u001b[0m\n\u001b[0m    ^\u001b[0m\n\u001b[0;31mIndentationError\u001b[0m\u001b[0;31m:\u001b[0m expected an indented block\n"
     ]
    }
   ],
   "source": [
    "class Participant:\n",
    "    def __init__(self):\n",
    "        self.points = 0\n",
    "        self.choice = \"\"\n",
    "        \n",
    "class GameRound:\n",
    "\n",
    "class Game:\n",
    "    def __init__(self):\n",
    "        self.endGame = False\n",
    "        self.partipant = Participant()\n",
    "        self.secondParticipant = Participant()"
   ]
  },
  {
   "attachments": {},
   "cell_type": "markdown",
   "metadata": {},
   "source": [
    "external methods can be invoked by other objects  \n",
    "internal can only be invoked by the object itself\n",
    "\n",
    "both can change the state of the object"
   ]
  },
  {
   "attachments": {},
   "cell_type": "markdown",
   "metadata": {},
   "source": [
    "_leading underscore signifies that the attribute \"probably shouldn't be touched\"\n",
    "    \"protected\"—can still be modified\n",
    "\n",
    "__two leading underscores keeps the attribute from being modified by external methods\n",
    "    \"private\"\n",
    "\n",
    "data protection in Python is not strict—there is often an easy way around restrictions.\n",
    "more like \"levels of suggestion\""
   ]
  },
  {
   "attachments": {},
   "cell_type": "markdown",
   "metadata": {},
   "source": [
    "decorators are important in Python\n",
    "functions that take your function as input\n",
    "part of \"meta programming\" which sounds gross\n",
    "\n",
    "\"encode reusable functionality as decorator functions and then decorate other functions with it\"\n",
    "nobody knows what this means\n",
    "\"the purpose is to give your function a feature it didn't have before. A decorator can, for example, add fields to your object, measure the time it takes to invocate a function, and do much more\""
   ]
  },
  {
   "attachments": {},
   "cell_type": "markdown",
   "metadata": {},
   "source": [
    "@property is an important decorator  \n",
    "    • creates a backing private field  \n",
    "        nobody knows what the :) this means  \n",
    "    • identifies a getter and a setter, which modify the backing private field  \n",
    "        still nobody knows what the :) a :) backing private field is  \n",
    "    • identifies a delete function, which can delete the backing private field   \n",
    "        et cetera  \n",
    "    \n",
    "why do we say \"identifies,\" not \"creates\"?"
   ]
  },
  {
   "cell_type": "code",
   "execution_count": 19,
   "metadata": {},
   "outputs": [
    {
     "name": "stdout",
     "output_type": "stream",
     "text": [
      "Spock selects rock\n",
      "Kirk selects spock\n",
      "Round resulted in a loss for Spock\n",
      "Game ended.\n",
      "Spock has 0 points and Kirk has 1 points.\n"
     ]
    }
   ],
   "source": [
    "class Participant:\n",
    "    def __init__(self, name):\n",
    "        self.name = name\n",
    "        self.points = 0\n",
    "        self.choice = \"\"\n",
    "\n",
    "    def choose(self):\n",
    "        self.choice = input(\"{name}, select rock, paper, scissors, lizard or Spock: \".format(name = self.name))\n",
    "        print(\"{name} selects {choice}\".format(name = self.name, choice = self.choice))   \n",
    "   \n",
    "    def toNumericalChoice(self):\n",
    "        switcher = {\n",
    "             \"rock\": 0,\n",
    "             \"paper\": 1,\n",
    "             \"scissor\": 2,\n",
    "             \"lizard\": 3,\n",
    "             \"Spock\": 4\n",
    "        }\n",
    "        return switcher[self.choice]\n",
    "\n",
    "    def incrementPoint(self):\n",
    "        self.points += 1\n",
    "\n",
    "class GameRound:\n",
    "    def __init__(self, p1, p2):\n",
    "        self.rules = [\n",
    "            [0, -1, 1, 1, -1],\n",
    "            [1, 0, -1, -1, 1],\n",
    "            [-1, 1, 0, 1, -1],\n",
    "            [-1, 1, -1, 0, 1],\n",
    "            [1, -1, 1, -1, 0]\n",
    "        ]\n",
    "\n",
    "        p1.choose()\n",
    "        p2.choose()\n",
    "\n",
    "        result = self.compareChoices(p1, p2)\n",
    "        print(\"Round resulted in a {result} for {name}\".format(result = self.getResultAsString(result), name = p1.name))\n",
    "\n",
    "        if result > 0:\n",
    "            p1.incrementPoint()\n",
    "        elif result < 0:\n",
    "            p2.incrementPoint()\n",
    "\n",
    "    def compareChoices(self, p1, p2):\n",
    "        return self.rules[p1.toNumericalChoice()][p2.toNumericalChoice()]\n",
    "\n",
    "    def getResultAsString(self, result):\n",
    "        res = {\n",
    "            0 : \"draw\",\n",
    "            1: \"win\",\n",
    "            -1: \"loss\"\n",
    "        }\n",
    "        return res[result]\n",
    "\n",
    "class Game:\n",
    "    def __init__(self):\n",
    "        self.endGame = False\n",
    "        self.participant = Participant(\"Spock\")\n",
    "        self.secondParticipant = Participant(\"Kirk\")\n",
    "\n",
    "    def start(self):\n",
    "        while not self.endGame:\n",
    "            GameRound(self.participant, self.secondParticipant)\n",
    "            self.checkEndCondition()\n",
    "   \n",
    "    def checkEndCondition(self):\n",
    "        answer = input(\"Continue game? y/n\")\n",
    "        if answer == 'y':\n",
    "            GameRound(self.participant, self.secondParticipant)\n",
    "            self.checkEndCondition()\n",
    "        else:\n",
    "            print(\"Game ended.\")\n",
    "            print(\"{p1name} has {p1points} points and {p2name} has {p2points} points.\".format(p1name = self.participant.name, p1points = self.participant.points, p2name = self.secondParticipant.name, p2points = self.secondParticipant.points))\n",
    "            self.endGame = True\n",
    "        \n",
    "    def determineWinner(self):\n",
    "        resultString = \"It's a draw\"\n",
    "        if self.participant.points > self.secondParticipant.points:\n",
    "            resultString = \"Winner is {name}\".format(name = self.participant.name)\n",
    "        elif self.participant.points < self.secondParticipant.points:\n",
    "            resultString = \"Winner is {name}\".format(name = self.secondParticipant.name)\n",
    "        print(resultString)\n",
    "\n",
    "game = Game()\n",
    "game.start()"
   ]
  },
  {
   "cell_type": "code",
   "execution_count": null,
   "metadata": {},
   "outputs": [],
   "source": []
  }
 ],
 "metadata": {
  "kernelspec": {
   "display_name": "base",
   "language": "python",
   "name": "python3"
  },
  "language_info": {
   "codemirror_mode": {
    "name": "ipython",
    "version": 3
   },
   "file_extension": ".py",
   "mimetype": "text/x-python",
   "name": "python",
   "nbconvert_exporter": "python",
   "pygments_lexer": "ipython3",
   "version": "3.9.13"
  },
  "orig_nbformat": 4,
  "vscode": {
   "interpreter": {
    "hash": "6bb877b423c92a338c6f041d539c18954d97472ff6feb7a9672c2a878db52808"
   }
  }
 },
 "nbformat": 4,
 "nbformat_minor": 2
}
