{
 "cells": [
  {
   "attachments": {},
   "cell_type": "markdown",
   "metadata": {},
   "source": [
    "attributes = variables attached to an object.    \n",
    "instantiation = object creation.    \n",
    "__init__() runs automatically on initialization.    "
   ]
  },
  {
   "cell_type": "code",
   "execution_count": 2,
   "metadata": {},
   "outputs": [
    {
     "name": "stdout",
     "output_type": "stream",
     "text": [
      "The elevator company\n",
      "1\n"
     ]
    }
   ],
   "source": [
    "class Elevator:\n",
    "    def __init__(self, starting_floor):\n",
    "        self.make = \"The elevator company\"\n",
    "        self.floor = starting_floor\n",
    "\n",
    "# To create the object\n",
    "\n",
    "elevator = Elevator(1)\n",
    "print(elevator.make) # \"The Elevator company\"\n",
    "print(elevator.floor) # 1"
   ]
  },
  {
   "attachments": {},
   "cell_type": "markdown",
   "metadata": {},
   "source": [
    "if the attributes are attached to an instance of the object, you need to use \"self.xxx\""
   ]
  },
  {
   "attachments": {},
   "cell_type": "markdown",
   "metadata": {},
   "source": [
    "left off at: https://learn.microsoft.com/en-us/training/modules/python-object-oriented-programming/4-exercise-model-your-game"
   ]
  }
 ],
 "metadata": {
  "kernelspec": {
   "display_name": "base",
   "language": "python",
   "name": "python3"
  },
  "language_info": {
   "codemirror_mode": {
    "name": "ipython",
    "version": 3
   },
   "file_extension": ".py",
   "mimetype": "text/x-python",
   "name": "python",
   "nbconvert_exporter": "python",
   "pygments_lexer": "ipython3",
   "version": "3.9.13"
  },
  "orig_nbformat": 4,
  "vscode": {
   "interpreter": {
    "hash": "6bb877b423c92a338c6f041d539c18954d97472ff6feb7a9672c2a878db52808"
   }
  }
 },
 "nbformat": 4,
 "nbformat_minor": 2
}
